{
  "nbformat": 4,
  "nbformat_minor": 0,
  "metadata": {
    "colab": {
      "provenance": [],
      "collapsed_sections": []
    },
    "kernelspec": {
      "name": "python3",
      "display_name": "Python 3"
    },
    "language_info": {
      "name": "python"
    }
  },
  "cells": [
    {
      "cell_type": "code",
      "execution_count": null,
      "metadata": {
        "id": "ILyZG9EWt5rl"
      },
      "outputs": [],
      "source": [
        "import numpy as np\n",
        "import matplotlib.pyplot as plt\n",
        "import pandas as pd\n",
        "import seaborn as sns"
      ]
    },
    {
      "cell_type": "code",
      "source": [
        "from google.colab import drive\n",
        "drive.mount('/content/gdrive')"
      ],
      "metadata": {
        "id": "uk6601twyULU"
      },
      "execution_count": null,
      "outputs": []
    },
    {
      "cell_type": "code",
      "source": [
        "df = pd.read_csv('/content/gdrive/MyDrive/Churn_Modelling.csv')\n",
        "df.describe()"
      ],
      "metadata": {
        "id": "W_r5Jx-Zyepx"
      },
      "execution_count": null,
      "outputs": []
    },
    {
      "cell_type": "markdown",
      "source": [
        "**UNIVARIATE ANALYSIS**"
      ],
      "metadata": {
        "id": "TvGhtkDezIbZ"
      }
    },
    {
      "cell_type": "code",
      "source": [
        "df[df[\"Geography\"]==\"Spain\"]"
      ],
      "metadata": {
        "id": "ciz8UDuTziYQ"
      },
      "execution_count": null,
      "outputs": []
    },
    {
      "cell_type": "markdown",
      "source": [
        "**BIVARIATE ANALYSIS**"
      ],
      "metadata": {
        "id": "BJNgD30C3eF1"
      }
    },
    {
      "cell_type": "code",
      "source": [
        "g_df = df[df[\"Geography\"]==\"Spain\"]\n",
        "low = g_df[\"NumOfProducts\"].min()\n",
        "high = g_df[\"NumOfProducts\"].max()\n",
        "print(low,high)"
      ],
      "metadata": {
        "id": "850_UotX3gVl"
      },
      "execution_count": null,
      "outputs": []
    },
    {
      "cell_type": "markdown",
      "source": [
        "**MULTI-VARIATE ANALYSIS**"
      ],
      "metadata": {
        "id": "zm4kF5qy38KY"
      }
    },
    {
      "cell_type": "code",
      "source": [
        "young = g_df[df['Age']== 50]\n",
        "gen = young[df['Gender']== \"Male\"]\n",
        "print(gen)"
      ],
      "metadata": {
        "id": "nNtUi7T43-En"
      },
      "execution_count": null,
      "outputs": []
    },
    {
      "cell_type": "markdown",
      "source": [
        "**DESCRIPTIVE ANALYSIS**"
      ],
      "metadata": {
        "id": "S-m6IWFM4DTI"
      }
    },
    {
      "cell_type": "code",
      "source": [
        "lt = df[\"NumOfProducts\"]\n",
        "cnt = 0\n",
        "for i in lt:\n",
        "  if(lt[i] == 1):\n",
        "    cnt = cnt + 1\n",
        "print(cnt)"
      ],
      "metadata": {
        "id": "BeBqLqtW4KFT"
      },
      "execution_count": null,
      "outputs": []
    },
    {
      "cell_type": "markdown",
      "source": [
        "**HANDLING THE NULL VALUES**"
      ],
      "metadata": {
        "id": "EKe7WOmF4Wk8"
      }
    },
    {
      "cell_type": "code",
      "source": [
        "df.isnull()"
      ],
      "metadata": {
        "id": "VGAm0aFI4aMh"
      },
      "execution_count": null,
      "outputs": []
    },
    {
      "cell_type": "markdown",
      "source": [
        "**FINDING THE OUTLIERS**"
      ],
      "metadata": {
        "id": "ulkJ7Wyu4eyZ"
      }
    },
    {
      "cell_type": "code",
      "source": [
        "import plotly.express as px\n",
        "\n",
        "x = df[\"IsActiveMember\"]\n",
        "y = df[\"Age\"]\n",
        "\n",
        "fig = px.scatter(x =x, y=y)\n",
        "fig.show()"
      ],
      "metadata": {
        "id": "RrlO2n2W4jMz"
      },
      "execution_count": null,
      "outputs": []
    },
    {
      "cell_type": "markdown",
      "source": [
        "**REPLACING THE OUTLIERS**"
      ],
      "metadata": {
        "id": "kaxcYzsn4sCW"
      }
    },
    {
      "cell_type": "code",
      "source": [
        "ot = []\n",
        "dt = []\n",
        "at = df[\"Age\"]\n",
        "mt = df[\"IsActiveMember\"]\n",
        "for i in at:\n",
        "  if (30 <= at[i] <= 40):\n",
        "    ot.append(at[i])\n",
        "    dt.append(mt[i])\n",
        "    \n",
        "\n",
        "x = dt\n",
        "y = ot\n",
        "\n",
        "fig = px.scatter(x =x, y=y)\n",
        "fig.show()"
      ],
      "metadata": {
        "id": "6TQJuKYh4tbY"
      },
      "execution_count": null,
      "outputs": []
    },
    {
      "cell_type": "markdown",
      "source": [
        "**CATEGORICAL COLUMNS AND ENCODING**"
      ],
      "metadata": {
        "id": "TthxOemg5MYF"
      }
    },
    {
      "cell_type": "code",
      "source": [
        "!pip install category_encoders\n",
        "import category_encoders as ce"
      ],
      "metadata": {
        "id": "VxMHHXQc5U87"
      },
      "execution_count": null,
      "outputs": []
    },
    {
      "cell_type": "code",
      "source": [
        "e = ce.BinaryEncoder(cols=['Gender'])\n",
        "df_binary = e.fit_transform(df)\n",
        "\n",
        "df_binary.head()"
      ],
      "metadata": {
        "id": "TTERP_ay5dqj"
      },
      "execution_count": null,
      "outputs": []
    },
    {
      "cell_type": "markdown",
      "source": [
        "**SPLIT THE DATA INTO DEPENDENT AND INDEPENDENT VARIABLES**"
      ],
      "metadata": {
        "id": "UBl1B_Ts5gY_"
      }
    },
    {
      "cell_type": "code",
      "source": [
        "X = df.iloc[ : , :-1].values\n",
        "Y = df.iloc[ : , 4].values\n",
        "print(X)\n",
        "print(Y)"
      ],
      "metadata": {
        "id": "lXa7AE0D5teq"
      },
      "execution_count": null,
      "outputs": []
    },
    {
      "cell_type": "markdown",
      "source": [
        "**SCALING THE INDEPENDENT VARIABLES**"
      ],
      "metadata": {
        "id": "hQQ1YSnQ5zaQ"
      }
    },
    {
      "cell_type": "code",
      "source": [
        "!pip install statistics\n",
        "import statistics"
      ],
      "metadata": {
        "id": "10jGnHjA51Jn"
      },
      "execution_count": null,
      "outputs": []
    },
    {
      "cell_type": "code",
      "source": [
        "a = df[\"CreditScore\"]\n",
        "print(statistics.stdev(a))"
      ],
      "metadata": {
        "id": "RJg202QZ6Jtj"
      },
      "execution_count": null,
      "outputs": []
    },
    {
      "cell_type": "markdown",
      "source": [
        "**SPLIT THE DATA INTO TRAINING AND TESTING**"
      ],
      "metadata": {
        "id": "gkl0vg-96Rxs"
      }
    },
    {
      "cell_type": "code",
      "source": [
        "x = df[\"EstimatedSalary\"]\n",
        "y = df[\"Balance\"]\n",
        "from sklearn.model_selection import train_test_split\n",
        "x_train, x_test, y_train, y_test = train_test_split(x, y, test_size=0.25)\n",
        "print(x_train.shape, x_test.shape, y_train.shape, y_test.shape)"
      ],
      "metadata": {
        "id": "df0I6sd86hJO"
      },
      "execution_count": null,
      "outputs": []
    }
  ]
}