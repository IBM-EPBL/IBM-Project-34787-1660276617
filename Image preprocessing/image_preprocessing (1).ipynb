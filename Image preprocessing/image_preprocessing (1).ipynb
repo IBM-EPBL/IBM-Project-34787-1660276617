{
  "nbformat": 4,
  "nbformat_minor": 0,
  "metadata": {
    "colab": {
      "provenance": [],
      "collapsed_sections": []
    },
    "kernelspec": {
      "name": "python3",
      "display_name": "Python 3"
    },
    "language_info": {
      "name": "python"
    }
  },
  "cells": [
    {
      "cell_type": "code",
      "execution_count": 1,
      "metadata": {
        "id": "DhXLJ9Pb2B1J"
      },
      "outputs": [],
      "source": [
        "from keras.preprocessing.image import ImageDataGenerator"
      ]
    },
    {
      "cell_type": "code",
      "source": [
        "train_datagen = ImageDataGenerator (rescale = 1./255, shear_range= 0.2,zoom_range= 0.2, horizontal_flip = True)"
      ],
      "metadata": {
        "id": "0gRYaAag2WJq"
      },
      "execution_count": 2,
      "outputs": []
    },
    {
      "cell_type": "code",
      "source": [
        "test_datagen =ImageDataGenerator (rescale = 1)"
      ],
      "metadata": {
        "id": "ZGmMmIKO2X4P"
      },
      "execution_count": 3,
      "outputs": []
    },
    {
      "cell_type": "code",
      "source": [
        "x_train = train_datagen.flow_from_directory\n",
        "x_test = test_datagen.flow_from_directory"
      ],
      "metadata": {
        "id": "zpyPbCqi2cGZ"
      },
      "execution_count": 7,
      "outputs": []
    },
    {
      "cell_type": "markdown",
      "source": [
        "Found 1279 images belonging to 4 classes.\n",
        "\n",
        "Found 1279 images belonging to 4 classes.\n"
      ],
      "metadata": {
        "id": "_2u8azGC5LDJ"
      }
    },
    {
      "cell_type": "code",
      "source": [
        "x_train = train_datagen.flow_from_directory\n",
        "x_test = test_datagen.flow_from_directory"
      ],
      "metadata": {
        "id": "0oURXXp72nIq"
      },
      "execution_count": 5,
      "outputs": []
    },
    {
      "cell_type": "markdown",
      "source": [
        "Found 365 images belonging to 3 classes.\n",
        "\n",
        "Found 110 images belonging to 3 classes."
      ],
      "metadata": {
        "id": "WSqNW9eK5bjx"
      }
    },
    {
      "cell_type": "code",
      "source": [],
      "metadata": {
        "id": "k-TIV9a-2uwF"
      },
      "execution_count": null,
      "outputs": []
    }
  ]
}